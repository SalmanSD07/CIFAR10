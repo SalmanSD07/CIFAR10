{
  "cells": [
    {
      "cell_type": "code",
      "execution_count": 1,
      "metadata": {
        "id": "6cBgHXTaHoA7"
      },
      "outputs": [],
      "source": [
        "import sys\n",
        "import torch\n",
        "import torchvision\n",
        "import torchvision.transforms as transforms\n",
        "from torch import nn\n",
        "import torch\n",
        "from torch import nn\n",
        "from IPython import display\n",
        "import torch.nn.functional as F"
      ]
    },
    {
      "cell_type": "markdown",
      "source": [
        "# Task 1"
      ],
      "metadata": {
        "id": "KxTbx8GYNq0-"
      }
    },
    {
      "cell_type": "code",
      "execution_count": 2,
      "metadata": {
        "colab": {
          "base_uri": "https://localhost:8080/"
        },
        "id": "rMpqE4OIHrOk",
        "outputId": "a3674640-914d-4d5a-bc9e-e898543bb8f7"
      },
      "outputs": [
        {
          "output_type": "stream",
          "name": "stdout",
          "text": [
            "Files already downloaded and verified\n",
            "Files already downloaded and verified\n"
          ]
        }
      ],
      "source": [
        "transform = transforms.Compose(\n",
        "    [transforms.ToTensor()])\n",
        "batch_size=256\n",
        "trainset = torchvision.datasets.CIFAR10(root='./data', train=True,\n",
        "                                        download=True, transform=transform )\n",
        "trainloader = torch.utils.data.DataLoader(trainset, \n",
        "                                          shuffle=True,batch_size=batch_size,num_workers=2)\n",
        "\n",
        "testset = torchvision.datasets.CIFAR10(root='./data', train=False,\n",
        "                                       download=True, transform=transform)\n",
        "testloader = torch.utils.data.DataLoader(testset,\n",
        "                                         shuffle=False, batch_size=batch_size,num_workers=2)"
      ]
    },
    {
      "cell_type": "code",
      "execution_count": 3,
      "metadata": {
        "colab": {
          "base_uri": "https://localhost:8080/"
        },
        "id": "cczzPS2BHz-j",
        "outputId": "97cba7f9-652b-45e3-8417-8061b54f7188"
      },
      "outputs": [
        {
          "output_type": "stream",
          "name": "stdout",
          "text": [
            "<class 'torch.utils.data.dataloader.DataLoader'>\n",
            "torch.Size([256, 3, 32, 32]) torch.Size([256])\n"
          ]
        }
      ],
      "source": [
        "trainiter = iter(trainloader)\n",
        "testiter=iter(testloader)\n",
        "images, labels = next(trainiter)\n",
        "images1, labels1 = next(testiter)\n",
        "print(type(trainloader))\n",
        "\n",
        "print(images1.shape,labels1.shape)\n"
      ]
    },
    {
      "cell_type": "markdown",
      "source": [
        "# Task 2"
      ],
      "metadata": {
        "id": "dqCyHlqDNxHW"
      }
    },
    {
      "cell_type": "code",
      "source": [
        "class Block(nn.Module):\n",
        "    def __init__(self, in_channels, out_channels, k=3):\n",
        "        super(Block, self).__init__()\n",
        "      \n",
        "        self.avg_pool = nn.AdaptiveAvgPool2d((1, 1))\n",
        "        self.fc = nn.Linear(in_channels, k)\n",
        "        self.convs = nn.ModuleList()\n",
        "        for _ in range(k):\n",
        "            conv = nn.Conv2d(in_channels, out_channels, 3, padding=1)\n",
        "            self.convs.append(conv)\n",
        "            \n",
        "        \n",
        "        self.channel_check = nn.Sequential()\n",
        "        if in_channels != out_channels:\n",
        "            self.channel_check = nn.Sequential(\n",
        "                nn.Conv2d(in_channels, out_channels, kernel_size=1, stride=1, padding=0),\n",
        "                nn.BatchNorm2d(out_channels)\n",
        "            )\n",
        "\n",
        "    def forward(self, x):\n",
        "        batch_size, num_channels, _, _ = x.size()\n",
        "        a = self.fc(self.avg_pool(x).view(batch_size, num_channels))\n",
        "        a = F.softmax(a, dim=1).view(batch_size, -1, 1, 1)\n",
        "        out = 0\n",
        "        for i, conv in enumerate(self.convs):\n",
        "            out += a[:, i:i + 1] * conv(x)\n",
        "        \n",
        "        # Add the residual connection to the output\n",
        "        res = self.channel_check(x)\n",
        "        out += res\n",
        "        return out\n",
        "\n",
        "class Model(nn.Module):\n",
        "    def __init__(self):\n",
        "        super(Model, self).__init__()\n",
        "        self.backbone = nn.Sequential(\n",
        "            Block(3, 64),\n",
        "            nn.BatchNorm2d(64),\n",
        "            nn.LeakyReLU(inplace=True),\n",
        "            Block(64, 64),\n",
        "            nn.BatchNorm2d(64),\n",
        "            nn.LeakyReLU(inplace=True),\n",
        "            nn.MaxPool2d(2, 2),\n",
        "            Block(64, 128),\n",
        "            nn.BatchNorm2d(128),\n",
        "            nn.LeakyReLU(inplace=True),\n",
        "            Block(128, 128),\n",
        "            nn.BatchNorm2d(128),\n",
        "            nn.LeakyReLU(inplace=True),\n",
        "            Block(128, 128),\n",
        "            nn.BatchNorm2d(128),\n",
        "            nn.LeakyReLU(inplace=True),\n",
        "            nn.MaxPool2d(2, 2),\n",
        "            Block(128, 256),\n",
        "            nn.BatchNorm2d(256),\n",
        "            nn.LeakyReLU(inplace=True),\n",
        "            Block(256, 256),\n",
        "            nn.BatchNorm2d(256),\n",
        "            nn.LeakyReLU(inplace=True),\n",
        "            Block(256, 256),\n",
        "            nn.BatchNorm2d(256),\n",
        "            nn.LeakyReLU(inplace=True),\n",
        "            nn.MaxPool2d(2, 2),\n",
        "            Block(256, 512),\n",
        "            nn.BatchNorm2d(512),\n",
        "            nn.LeakyReLU(inplace=True),\n",
        "            Block(512, 512),\n",
        "            nn.BatchNorm2d(512),\n",
        "            nn.LeakyReLU(inplace=True),\n",
        "            Block(512, 512),\n",
        "            nn.BatchNorm2d(512),\n",
        "            nn.LeakyReLU(inplace=True),\n",
        "            nn.MaxPool2d(2, 2)\n",
        "        )\n",
        "\n",
        "        self.classifier = nn.Sequential(\n",
        "            nn.AdaptiveAvgPool2d((1, 1)),\n",
        "            nn.Flatten(),\n",
        "            nn.Linear(512, 10)\n",
        "        )\n",
        "\n",
        "    def forward(self, x):\n",
        "        x = self.backbone(x)          \n",
        "        x = self.classifier(x)        \n",
        "        return x\n",
        "\n",
        "\n"
      ],
      "metadata": {
        "id": "H29VgjbEZQJD"
      },
      "execution_count": 4,
      "outputs": []
    },
    {
      "cell_type": "code",
      "execution_count": 5,
      "metadata": {
        "id": "kljxKCuqH4D4"
      },
      "outputs": [],
      "source": [
        "def init_weights(m):\n",
        "    if type(m) == nn.Linear: # by checking the type we can init different layers in different ways\n",
        "        torch.nn.init.kaiming_normal_(m.weight, mode='fan_in', nonlinearity='relu')     \n",
        "\n",
        "model = Model()\n",
        "\n",
        "model.apply(init_weights);\n",
        "\n"
      ]
    },
    {
      "cell_type": "markdown",
      "source": [
        "# Task 3"
      ],
      "metadata": {
        "id": "SbeOZHLwN84v"
      }
    },
    {
      "cell_type": "code",
      "execution_count": 6,
      "metadata": {
        "id": "bY3Pry6wH515",
        "colab": {
          "base_uri": "https://localhost:8080/"
        },
        "outputId": "2266ee19-cad3-4b0b-eadf-88085a7a3d71"
      },
      "outputs": [
        {
          "output_type": "execute_result",
          "data": {
            "text/plain": [
              "Model(\n",
              "  (backbone): Sequential(\n",
              "    (0): Block(\n",
              "      (avg_pool): AdaptiveAvgPool2d(output_size=(1, 1))\n",
              "      (fc): Linear(in_features=3, out_features=3, bias=True)\n",
              "      (convs): ModuleList(\n",
              "        (0-2): 3 x Conv2d(3, 64, kernel_size=(3, 3), stride=(1, 1), padding=(1, 1))\n",
              "      )\n",
              "      (channel_check): Sequential(\n",
              "        (0): Conv2d(3, 64, kernel_size=(1, 1), stride=(1, 1))\n",
              "        (1): BatchNorm2d(64, eps=1e-05, momentum=0.1, affine=True, track_running_stats=True)\n",
              "      )\n",
              "    )\n",
              "    (1): BatchNorm2d(64, eps=1e-05, momentum=0.1, affine=True, track_running_stats=True)\n",
              "    (2): LeakyReLU(negative_slope=0.01, inplace=True)\n",
              "    (3): Block(\n",
              "      (avg_pool): AdaptiveAvgPool2d(output_size=(1, 1))\n",
              "      (fc): Linear(in_features=64, out_features=3, bias=True)\n",
              "      (convs): ModuleList(\n",
              "        (0-2): 3 x Conv2d(64, 64, kernel_size=(3, 3), stride=(1, 1), padding=(1, 1))\n",
              "      )\n",
              "      (channel_check): Sequential()\n",
              "    )\n",
              "    (4): BatchNorm2d(64, eps=1e-05, momentum=0.1, affine=True, track_running_stats=True)\n",
              "    (5): LeakyReLU(negative_slope=0.01, inplace=True)\n",
              "    (6): MaxPool2d(kernel_size=2, stride=2, padding=0, dilation=1, ceil_mode=False)\n",
              "    (7): Block(\n",
              "      (avg_pool): AdaptiveAvgPool2d(output_size=(1, 1))\n",
              "      (fc): Linear(in_features=64, out_features=3, bias=True)\n",
              "      (convs): ModuleList(\n",
              "        (0-2): 3 x Conv2d(64, 128, kernel_size=(3, 3), stride=(1, 1), padding=(1, 1))\n",
              "      )\n",
              "      (channel_check): Sequential(\n",
              "        (0): Conv2d(64, 128, kernel_size=(1, 1), stride=(1, 1))\n",
              "        (1): BatchNorm2d(128, eps=1e-05, momentum=0.1, affine=True, track_running_stats=True)\n",
              "      )\n",
              "    )\n",
              "    (8): BatchNorm2d(128, eps=1e-05, momentum=0.1, affine=True, track_running_stats=True)\n",
              "    (9): LeakyReLU(negative_slope=0.01, inplace=True)\n",
              "    (10): Block(\n",
              "      (avg_pool): AdaptiveAvgPool2d(output_size=(1, 1))\n",
              "      (fc): Linear(in_features=128, out_features=3, bias=True)\n",
              "      (convs): ModuleList(\n",
              "        (0-2): 3 x Conv2d(128, 128, kernel_size=(3, 3), stride=(1, 1), padding=(1, 1))\n",
              "      )\n",
              "      (channel_check): Sequential()\n",
              "    )\n",
              "    (11): BatchNorm2d(128, eps=1e-05, momentum=0.1, affine=True, track_running_stats=True)\n",
              "    (12): LeakyReLU(negative_slope=0.01, inplace=True)\n",
              "    (13): Block(\n",
              "      (avg_pool): AdaptiveAvgPool2d(output_size=(1, 1))\n",
              "      (fc): Linear(in_features=128, out_features=3, bias=True)\n",
              "      (convs): ModuleList(\n",
              "        (0-2): 3 x Conv2d(128, 128, kernel_size=(3, 3), stride=(1, 1), padding=(1, 1))\n",
              "      )\n",
              "      (channel_check): Sequential()\n",
              "    )\n",
              "    (14): BatchNorm2d(128, eps=1e-05, momentum=0.1, affine=True, track_running_stats=True)\n",
              "    (15): LeakyReLU(negative_slope=0.01, inplace=True)\n",
              "    (16): MaxPool2d(kernel_size=2, stride=2, padding=0, dilation=1, ceil_mode=False)\n",
              "    (17): Block(\n",
              "      (avg_pool): AdaptiveAvgPool2d(output_size=(1, 1))\n",
              "      (fc): Linear(in_features=128, out_features=3, bias=True)\n",
              "      (convs): ModuleList(\n",
              "        (0-2): 3 x Conv2d(128, 256, kernel_size=(3, 3), stride=(1, 1), padding=(1, 1))\n",
              "      )\n",
              "      (channel_check): Sequential(\n",
              "        (0): Conv2d(128, 256, kernel_size=(1, 1), stride=(1, 1))\n",
              "        (1): BatchNorm2d(256, eps=1e-05, momentum=0.1, affine=True, track_running_stats=True)\n",
              "      )\n",
              "    )\n",
              "    (18): BatchNorm2d(256, eps=1e-05, momentum=0.1, affine=True, track_running_stats=True)\n",
              "    (19): LeakyReLU(negative_slope=0.01, inplace=True)\n",
              "    (20): Block(\n",
              "      (avg_pool): AdaptiveAvgPool2d(output_size=(1, 1))\n",
              "      (fc): Linear(in_features=256, out_features=3, bias=True)\n",
              "      (convs): ModuleList(\n",
              "        (0-2): 3 x Conv2d(256, 256, kernel_size=(3, 3), stride=(1, 1), padding=(1, 1))\n",
              "      )\n",
              "      (channel_check): Sequential()\n",
              "    )\n",
              "    (21): BatchNorm2d(256, eps=1e-05, momentum=0.1, affine=True, track_running_stats=True)\n",
              "    (22): LeakyReLU(negative_slope=0.01, inplace=True)\n",
              "    (23): Block(\n",
              "      (avg_pool): AdaptiveAvgPool2d(output_size=(1, 1))\n",
              "      (fc): Linear(in_features=256, out_features=3, bias=True)\n",
              "      (convs): ModuleList(\n",
              "        (0-2): 3 x Conv2d(256, 256, kernel_size=(3, 3), stride=(1, 1), padding=(1, 1))\n",
              "      )\n",
              "      (channel_check): Sequential()\n",
              "    )\n",
              "    (24): BatchNorm2d(256, eps=1e-05, momentum=0.1, affine=True, track_running_stats=True)\n",
              "    (25): LeakyReLU(negative_slope=0.01, inplace=True)\n",
              "    (26): MaxPool2d(kernel_size=2, stride=2, padding=0, dilation=1, ceil_mode=False)\n",
              "    (27): Block(\n",
              "      (avg_pool): AdaptiveAvgPool2d(output_size=(1, 1))\n",
              "      (fc): Linear(in_features=256, out_features=3, bias=True)\n",
              "      (convs): ModuleList(\n",
              "        (0-2): 3 x Conv2d(256, 512, kernel_size=(3, 3), stride=(1, 1), padding=(1, 1))\n",
              "      )\n",
              "      (channel_check): Sequential(\n",
              "        (0): Conv2d(256, 512, kernel_size=(1, 1), stride=(1, 1))\n",
              "        (1): BatchNorm2d(512, eps=1e-05, momentum=0.1, affine=True, track_running_stats=True)\n",
              "      )\n",
              "    )\n",
              "    (28): BatchNorm2d(512, eps=1e-05, momentum=0.1, affine=True, track_running_stats=True)\n",
              "    (29): LeakyReLU(negative_slope=0.01, inplace=True)\n",
              "    (30): Block(\n",
              "      (avg_pool): AdaptiveAvgPool2d(output_size=(1, 1))\n",
              "      (fc): Linear(in_features=512, out_features=3, bias=True)\n",
              "      (convs): ModuleList(\n",
              "        (0-2): 3 x Conv2d(512, 512, kernel_size=(3, 3), stride=(1, 1), padding=(1, 1))\n",
              "      )\n",
              "      (channel_check): Sequential()\n",
              "    )\n",
              "    (31): BatchNorm2d(512, eps=1e-05, momentum=0.1, affine=True, track_running_stats=True)\n",
              "    (32): LeakyReLU(negative_slope=0.01, inplace=True)\n",
              "    (33): Block(\n",
              "      (avg_pool): AdaptiveAvgPool2d(output_size=(1, 1))\n",
              "      (fc): Linear(in_features=512, out_features=3, bias=True)\n",
              "      (convs): ModuleList(\n",
              "        (0-2): 3 x Conv2d(512, 512, kernel_size=(3, 3), stride=(1, 1), padding=(1, 1))\n",
              "      )\n",
              "      (channel_check): Sequential()\n",
              "    )\n",
              "    (34): BatchNorm2d(512, eps=1e-05, momentum=0.1, affine=True, track_running_stats=True)\n",
              "    (35): LeakyReLU(negative_slope=0.01, inplace=True)\n",
              "    (36): MaxPool2d(kernel_size=2, stride=2, padding=0, dilation=1, ceil_mode=False)\n",
              "  )\n",
              "  (classifier): Sequential(\n",
              "    (0): AdaptiveAvgPool2d(output_size=(1, 1))\n",
              "    (1): Flatten(start_dim=1, end_dim=-1)\n",
              "    (2): Linear(in_features=512, out_features=10, bias=True)\n",
              "  )\n",
              ")"
            ]
          },
          "metadata": {},
          "execution_count": 6
        }
      ],
      "source": [
        "# Creare your loss here. Use Cross Entropy loss:\n",
        "loss = nn.CrossEntropyLoss()\n",
        "lr, wd = 0.001, 0.0005\n",
        "# Creare your optimizer here. Use SGD with weight decay wd and learning rate lr.\n",
        "optimizer = torch.optim.Adam(model.parameters(), lr=lr, weight_decay=wd)\n",
        "\n",
        "device = torch.device(\"cuda:0\" if torch.cuda.is_available() else \"cpu\")\n",
        "model.to(device)"
      ]
    },
    {
      "cell_type": "markdown",
      "source": [
        "# Task 4"
      ],
      "metadata": {
        "id": "aPyDZP2COP5k"
      }
    },
    {
      "cell_type": "code",
      "execution_count": 7,
      "metadata": {
        "id": "5PPOxucnH7lM"
      },
      "outputs": [],
      "source": [
        "def accuracy(y_hat, y):  #y_hat is a matrix; 2nd dimension stores prediction scores for each class.\n",
        "    \"\"\"Compute the number of correct predictions.\"\"\"\n",
        "    if len(y_hat.shape) > 1 and y_hat.shape[1] > 1:\n",
        "        y_hat = y_hat.argmax(axis=1) # Predicted class is the index of max score         \n",
        "    cmp = (y_hat.type(y.dtype) == y)  # because`==` is sensitive to data types\n",
        "    return float(torch.sum(cmp)) # Taking the sum yields the number of correct predictions.\n"
      ]
    },
    {
      "cell_type": "code",
      "execution_count": 8,
      "metadata": {
        "id": "jGrXspJtH9L9"
      },
      "outputs": [],
      "source": [
        "class Accumulator:  \n",
        "    \"\"\"For accumulating sums over `n` variables.\"\"\"\n",
        "    def __init__(self, n):\n",
        "        self.data = [0.0] * n # [0, 0, ..., 0]\n",
        "    def add(self, *args):\n",
        "        self.data = [a + float(b) for a, b in zip(self.data, args)]\n",
        "    def reset(self):\n",
        "        self.data = [0.0] * len(self.data)\n",
        "    def __getitem__(self, idx):\n",
        "        return self.data[idx]"
      ]
    },
    {
      "cell_type": "code",
      "execution_count": 9,
      "metadata": {
        "id": "q_xaE-MCH-oQ"
      },
      "outputs": [],
      "source": [
        "def evaluate_accuracy(net, data_iter,device): \n",
        "    \"\"\"Compute the accuracy for a model on a dataset.\"\"\"\n",
        "    metric = Accumulator(2)  # No. of correct predictions, no. of predictions\n",
        "    for _, (X, y) in enumerate(data_iter):\n",
        "        X,y=X.to(device),y.to(device)\n",
        "\n",
        "        metric.add(accuracy(net(X), y), y.numel())\n",
        "    if(metric[1]==0):\n",
        "      return 0\n",
        "    else:\n",
        "      return metric[0] / metric[1]"
      ]
    },
    {
      "cell_type": "code",
      "execution_count": 10,
      "metadata": {
        "colab": {
          "base_uri": "https://localhost:8080/"
        },
        "id": "rygxAgWvIAEm",
        "outputId": "78f9298a-9951-463b-9d1d-d3817e8202d4"
      },
      "outputs": [
        {
          "output_type": "execute_result",
          "data": {
            "text/plain": [
              "0.0811"
            ]
          },
          "metadata": {},
          "execution_count": 10
        }
      ],
      "source": [
        "evaluate_accuracy(model, testloader,device)"
      ]
    },
    {
      "cell_type": "code",
      "execution_count": 11,
      "metadata": {
        "id": "fK9zHBjFID08"
      },
      "outputs": [],
      "source": [
        "def train_epoch_ch3(net, train_iter, loss, optimizer,device, batch_size=batch_size, num_outputs=10):  \n",
        "    \"\"\"The training function for one epoch.\"\"\"\n",
        "    # Set the model to training mode\n",
        "    if isinstance(net, torch.nn.Module):\n",
        "        net.train()\n",
        "    # Sum of training loss, sum of training accuracy, no. of examples\n",
        "    metric = Accumulator(3)\n",
        "    for X, y in train_iter:\n",
        "        # Compute gradients and update parameters\n",
        "        X,y=X.to(device),y.to(device)\n",
        "        y_hat = net(X)\n",
        "        l = loss(y_hat, y)\n",
        "        optimizer.zero_grad()\n",
        "        l.backward()\n",
        "        optimizer.step()\n",
        "        metric.add(float(l) * len(y), accuracy(y_hat, y), y.size().numel())\n",
        "    # Return training loss and training accuracy\n",
        "    if(metric[2]==0):\n",
        "      return 0,0\n",
        "    else:\n",
        "      return metric[0] / metric[2], metric[1] / metric[2]"
      ]
    },
    {
      "cell_type": "code",
      "source": [
        "import matplotlib.pyplot as plt\n",
        "\n",
        "def plot_train_test(net, train_iter, test_iter, loss, num_epochs, optimizer,device): \n",
        "    \"\"\"Train a model.\"\"\"\n",
        "    train_loss_list=[]\n",
        "    train_acc_list=[]\n",
        "    test_acc_list=[]\n",
        "    for epoch in range(num_epochs):\n",
        "        train_metrics = train_epoch_ch3(net, train_iter, loss, optimizer,device)\n",
        "        test_acc = evaluate_accuracy(net, test_iter,device)\n",
        "        train_loss, train_acc=train_metrics\n",
        "        train_loss_list.append(train_loss)\n",
        "        train_acc_list.append(train_acc)\n",
        "        test_acc_list.append(test_acc)\n",
        "\n",
        "\n",
        "        print(\"training loss for epoch\",epoch+1,\"is:\",train_loss)\n",
        "        print(\"training accuracy for epoch\", epoch+1,\"is:\", train_acc)\n",
        "        print(\"test accuracy for epoch\",epoch+1,\"is:\", test_acc)\n",
        "\n",
        "\n",
        "    plt.figure()\n",
        "    plt.plot(train_loss_list, label='Training Loss')\n",
        "    plt.xlabel('Epoch')\n",
        "    plt.ylabel('Loss')\n",
        "    plt.legend()\n",
        "    plt.show()\n",
        "\n",
        "    \n",
        "    plt.figure()\n",
        "    plt.plot(train_acc_list, label='Training Accuracy')\n",
        "    plt.plot(test_acc_list, label='test Accuracy')\n",
        "    plt.xlabel('Epoch')\n",
        "    plt.ylabel('Accuracy')\n",
        "    plt.legend()\n",
        "    plt.show()\n",
        "\n",
        "\n"
      ],
      "metadata": {
        "id": "sudabw-TPViK"
      },
      "execution_count": 12,
      "outputs": []
    },
    {
      "cell_type": "markdown",
      "source": [
        "# Task 5"
      ],
      "metadata": {
        "id": "0Kk9VwzkOY2u"
      }
    },
    {
      "cell_type": "code",
      "execution_count": 13,
      "metadata": {
        "colab": {
          "base_uri": "https://localhost:8080/",
          "height": 1000
        },
        "id": "09qPFJneIRgQ",
        "outputId": "8579baf2-a9b8-437b-e17b-9a839d950b71"
      },
      "outputs": [
        {
          "output_type": "stream",
          "name": "stdout",
          "text": [
            "training loss for epoch 1 is: 1.6010638765716552\n",
            "training accuracy for epoch 1 is: 0.42388\n",
            "test accuracy for epoch 1 is: 0.5296\n",
            "training loss for epoch 2 is: 1.092179538154602\n",
            "training accuracy for epoch 2 is: 0.61142\n",
            "test accuracy for epoch 2 is: 0.6498\n",
            "training loss for epoch 3 is: 0.916343949546814\n",
            "training accuracy for epoch 3 is: 0.68448\n",
            "test accuracy for epoch 3 is: 0.721\n",
            "training loss for epoch 4 is: 0.6941771662330627\n",
            "training accuracy for epoch 4 is: 0.76358\n",
            "test accuracy for epoch 4 is: 0.7675\n",
            "training loss for epoch 5 is: 0.5717282534217835\n",
            "training accuracy for epoch 5 is: 0.80468\n",
            "test accuracy for epoch 5 is: 0.7939\n",
            "training loss for epoch 6 is: 0.4916625495529175\n",
            "training accuracy for epoch 6 is: 0.83006\n",
            "test accuracy for epoch 6 is: 0.8057\n",
            "training loss for epoch 7 is: 0.4258752038192749\n",
            "training accuracy for epoch 7 is: 0.85266\n",
            "test accuracy for epoch 7 is: 0.8238\n",
            "training loss for epoch 8 is: 0.3721521228790283\n",
            "training accuracy for epoch 8 is: 0.87088\n",
            "test accuracy for epoch 8 is: 0.832\n",
            "training loss for epoch 9 is: 0.3358545985507965\n",
            "training accuracy for epoch 9 is: 0.88472\n",
            "test accuracy for epoch 9 is: 0.8319\n",
            "training loss for epoch 10 is: 0.2902611220550537\n",
            "training accuracy for epoch 10 is: 0.89794\n",
            "test accuracy for epoch 10 is: 0.8315\n",
            "training loss for epoch 11 is: 0.2648829860496521\n",
            "training accuracy for epoch 11 is: 0.90854\n",
            "test accuracy for epoch 11 is: 0.8374\n",
            "training loss for epoch 12 is: 0.22681149853229524\n",
            "training accuracy for epoch 12 is: 0.92262\n",
            "test accuracy for epoch 12 is: 0.8241\n",
            "training loss for epoch 13 is: 0.20816870705127716\n",
            "training accuracy for epoch 13 is: 0.92746\n",
            "test accuracy for epoch 13 is: 0.8363\n",
            "training loss for epoch 14 is: 0.19290280037879945\n",
            "training accuracy for epoch 14 is: 0.93264\n",
            "test accuracy for epoch 14 is: 0.8522\n",
            "training loss for epoch 15 is: 0.16904088892936706\n",
            "training accuracy for epoch 15 is: 0.94186\n",
            "test accuracy for epoch 15 is: 0.8389\n",
            "training loss for epoch 16 is: 0.15589749162197114\n",
            "training accuracy for epoch 16 is: 0.94578\n",
            "test accuracy for epoch 16 is: 0.8396\n",
            "training loss for epoch 17 is: 0.14103969747543335\n",
            "training accuracy for epoch 17 is: 0.95128\n",
            "test accuracy for epoch 17 is: 0.8441\n",
            "training loss for epoch 18 is: 0.13555678516864778\n",
            "training accuracy for epoch 18 is: 0.9533\n",
            "test accuracy for epoch 18 is: 0.8402\n",
            "training loss for epoch 19 is: 0.12459487051486969\n",
            "training accuracy for epoch 19 is: 0.95602\n",
            "test accuracy for epoch 19 is: 0.8493\n",
            "training loss for epoch 20 is: 0.11445680610179901\n",
            "training accuracy for epoch 20 is: 0.96014\n",
            "test accuracy for epoch 20 is: 0.8394\n",
            "training loss for epoch 21 is: 0.1154503899526596\n",
            "training accuracy for epoch 21 is: 0.96022\n",
            "test accuracy for epoch 21 is: 0.844\n",
            "training loss for epoch 22 is: 0.09816234316825867\n",
            "training accuracy for epoch 22 is: 0.96738\n",
            "test accuracy for epoch 22 is: 0.8467\n",
            "training loss for epoch 23 is: 0.10022161446809769\n",
            "training accuracy for epoch 23 is: 0.96494\n",
            "test accuracy for epoch 23 is: 0.8476\n",
            "training loss for epoch 24 is: 0.09921130771636963\n",
            "training accuracy for epoch 24 is: 0.96574\n",
            "test accuracy for epoch 24 is: 0.8451\n",
            "training loss for epoch 25 is: 0.10044107305049896\n",
            "training accuracy for epoch 25 is: 0.96574\n",
            "test accuracy for epoch 25 is: 0.8367\n"
          ]
        },
        {
          "output_type": "display_data",
          "data": {
            "text/plain": [
              "<Figure size 640x480 with 1 Axes>"
            ],
            "image/png": "[encoded data removed]"
          },
          "metadata": {}
        },
        {
          "output_type": "display_data",
          "data": {
            "text/plain": [
              "<Figure size 640x480 with 1 Axes>"
            ],
            "image/png": "[encoded data removed]"
          },
          "metadata": {}
        }
      ],
      "source": [
        "num_epochs = 25\n",
        "plot_train_test(model, trainloader, testloader, loss, num_epochs, optimizer,device)"
      ]
    },
    {
      "cell_type": "code",
      "execution_count": 13,
      "metadata": {
        "id": "ar0ikqBgIS1L"
      },
      "outputs": [],
      "source": []
    }
  ],
  "metadata": {
    "colab": {
      "provenance": []
    },
    "kernelspec": {
      "display_name": "Python 3",
      "name": "python3"
    },
    "language_info": {
      "name": "python"
    },
    "gpuClass": "standard",
    "accelerator": "GPU"
  },
  "nbformat": 4,
  "nbformat_minor": 0
}